{
 "metadata": {
  "name": "",
  "signature": "sha256:f4c4b80fd52d9059aadeb4bdc060d4a4d55071b80fe4163803d8cbbbfe879061"
 },
 "nbformat": 3,
 "nbformat_minor": 0,
 "worksheets": [
  {
   "cells": [
    {
     "cell_type": "code",
     "collapsed": false,
     "input": [
      "import pandas as pd\n",
      "import numpy as np"
     ],
     "language": "python",
     "metadata": {},
     "outputs": [],
     "prompt_number": 9
    },
    {
     "cell_type": "code",
     "collapsed": false,
     "input": [
      "M = pd.read_csv('C:\\Users\\azam\\Documents\\IPython Notebooks\\\\Movie Reviews.csv', index_col='Name')"
     ],
     "language": "python",
     "metadata": {},
     "outputs": [],
     "prompt_number": 10
    },
    {
     "cell_type": "code",
     "collapsed": false,
     "input": [
      "def pearson(s1, s2):\n",
      "    \"\"\"Take two pd.Series objects and return a pearson correlation.\"\"\"\n",
      "    s1_c = s1 - s1.mean()\n",
      "    s2_c = s2 - s2.mean()\n",
      "    return np.sum(s1_c * s2_c) / np.sqrt(np.sum(s1_c ** 2) * np.sum(s2_c ** 2))"
     ],
     "language": "python",
     "metadata": {},
     "outputs": [],
     "prompt_number": 11
    },
    {
     "cell_type": "code",
     "collapsed": false,
     "input": [
      "def get_recs(movie_name, M, num):\n",
      "\n",
      "    import numpy as np\n",
      "    reviews = []\n",
      "    for title in M.columns:\n",
      "        if title == movie_name:\n",
      "            continue\n",
      "        cor = pearson(M[movie_name], M[title])\n",
      "        if np.isnan(cor):\n",
      "            continue\n",
      "        else:\n",
      "            reviews.append((title, cor))\n",
      "    \n",
      "    reviews.sort(key=lambda tup: tup[1], reverse=True)\n",
      "    return reviews[:num]\n",
      "\n",
      "    "
     ],
     "language": "python",
     "metadata": {},
     "outputs": [],
     "prompt_number": 12
    },
    {
     "cell_type": "markdown",
     "metadata": {},
     "source": [
      "What movie is most Similar to 'The fault in our stars'"
     ]
    },
    {
     "cell_type": "code",
     "collapsed": false,
     "input": [
      "recs = get_recs('The Fault in Our Stars', M, 10)\n",
      "recs[:1]"
     ],
     "language": "python",
     "metadata": {},
     "outputs": [
      {
       "metadata": {},
       "output_type": "pyout",
       "prompt_number": 13,
       "text": [
        "[('Transformers', 0.46673568990261)]"
       ]
      }
     ],
     "prompt_number": 13
    },
    {
     "cell_type": "markdown",
     "metadata": {},
     "source": [
      "Which movie(s) would you most like to see, based on your classmates experience?"
     ]
    },
    {
     "cell_type": "code",
     "collapsed": false,
     "input": [
      "# movies I've seen\n",
      "my_ratings = M.ix['azam'].dropna()\n",
      "#the movie I have rated the highest\n",
      "my_ratings.sort(ascending=False)"
     ],
     "language": "python",
     "metadata": {},
     "outputs": [],
     "prompt_number": 14
    },
    {
     "cell_type": "code",
     "collapsed": false,
     "input": [
      "my_ratings"
     ],
     "language": "python",
     "metadata": {},
     "outputs": [
      {
       "metadata": {},
       "output_type": "pyout",
       "prompt_number": 15,
       "text": [
        "The Hobbit                 5\n",
        "American Sniper            4\n",
        "Guardians of the Galaxy    3\n",
        "Name: azam, dtype: float64"
       ]
      }
     ],
     "prompt_number": 15
    },
    {
     "cell_type": "code",
     "collapsed": false,
     "input": [
      "#The Hobbit\n",
      "recs = get_recs('The Hobbit', M, 10)\n",
      "recs[:5]"
     ],
     "language": "python",
     "metadata": {},
     "outputs": [
      {
       "metadata": {},
       "output_type": "pyout",
       "prompt_number": 16,
       "text": [
        "[('How to Train your Dragon 2', 0.37191715263086839),\n",
        " ('Interstellar', 0.3545036627313633),\n",
        " ('Guardians of the Galaxy', 0.22621850505667127),\n",
        " ('Divergent', 0.18038326142811364),\n",
        " ('The Hunger Games: Mockingjay - Part 1', 0.15619010036433617)]"
       ]
      }
     ],
     "prompt_number": 16
    },
    {
     "cell_type": "code",
     "collapsed": false,
     "input": [
      "#American Sniper\n",
      "recs = get_recs('American Sniper', M, 10)\n",
      "recs[:5]"
     ],
     "language": "python",
     "metadata": {},
     "outputs": [
      {
       "metadata": {},
       "output_type": "pyout",
       "prompt_number": 17,
       "text": [
        "[('Gone Girl', 0.36478009283544005),\n",
        " ('300: Rise of an Empire', 0.33259827877703568),\n",
        " ('Divergent', 0.27143073169774867),\n",
        " ('How to Train your Dragon 2', 0.1084939406512269),\n",
        " ('Malificent', 0.082147431365028376)]"
       ]
      }
     ],
     "prompt_number": 17
    },
    {
     "cell_type": "code",
     "collapsed": false,
     "input": [
      "#Guardians of the Galaxy\n",
      "recs = get_recs('Guardians of the Galaxy', M, 10)\n",
      "recs[:5]"
     ],
     "language": "python",
     "metadata": {},
     "outputs": [
      {
       "metadata": {},
       "output_type": "pyout",
       "prompt_number": 18,
       "text": [
        "[('The Hunger Games: Mockingjay - Part 1', 0.63839731821513546),\n",
        " ('Godzilla', 0.29339218435919245),\n",
        " ('The Hobbit', 0.22621850505667127),\n",
        " ('The Fault in Our Stars', 0.1234572911646078),\n",
        " ('Transformers', 0.059778712749064718)]"
       ]
      }
     ],
     "prompt_number": 18
    },
    {
     "cell_type": "markdown",
     "metadata": {},
     "source": [
      "How to Train your Dragon 2 is similar to the hobbit & Gone Girl is similar to American Sniper"
     ]
    },
    {
     "cell_type": "heading",
     "level": 2,
     "metadata": {},
     "source": [
      "Bonus Question"
     ]
    },
    {
     "cell_type": "code",
     "collapsed": false,
     "input": [
      "not_rated = M.ix['azam']\n",
      "not_rated.sort()\n",
      "for i in range(0, not_rated.count(), 1):\n",
      "    not_rated.drop(not_rated.index[0], inplace=True)"
     ],
     "language": "python",
     "metadata": {},
     "outputs": [],
     "prompt_number": 19
    },
    {
     "cell_type": "code",
     "collapsed": false,
     "input": [
      "not_rated"
     ],
     "language": "python",
     "metadata": {},
     "outputs": [
      {
       "metadata": {},
       "output_type": "pyout",
       "prompt_number": 20,
       "text": [
        "The Hunger Games: Mockingjay - Part 1   NaN\n",
        "The Lego Movie                          NaN\n",
        "Transformers                            NaN\n",
        "Malificent                              NaN\n",
        "Big Hero 6                              NaN\n",
        "Godzilla                                NaN\n",
        "Interstellar                            NaN\n",
        "How to Train your Dragon 2              NaN\n",
        "Gone Girl                               NaN\n",
        "Divergent                               NaN\n",
        "The Fault in Our Stars                  NaN\n",
        "Unbroken                                NaN\n",
        "300: Rise of an Empire                  NaN\n",
        "Name: azam, dtype: float64"
       ]
      }
     ],
     "prompt_number": 20
    },
    {
     "cell_type": "code",
     "collapsed": false,
     "input": [
      "print \"Pearson Correlation coefficient of :\"\n",
      "a= []\n",
      "for i in range(0, 29, 1): \n",
      "    cor=pearson(M.ix[29], M.ix[i])\n",
      "    print \"(\" + M.index[29] + \" , \" + M.index[i] + \") :\", cor\n",
      "    a.append(cor)"
     ],
     "language": "python",
     "metadata": {},
     "outputs": [
      {
       "output_type": "stream",
       "stream": "stdout",
       "text": [
        "Pearson Correlation coefficient of :\n",
        "(azam , Mike) : -0.310086836473\n",
        "(azam , HJ SONG) : 0.227786725805\n",
        "(azam , Ryan Hansen) : 0.243975018237\n",
        "(azam , Olumuyiwa Durojaiye) : nan\n",
        "(azam , Charlie) : 0.0\n",
        "(azam , Sina Tuy) : 0.22712838129\n",
        "(azam , Pavithra Shetty) : -0.106600358178\n",
        "(azam , Sara Collins) : -0.288675134595\n",
        "(azam , Jonathan Doll) : 0.338061701891\n",
        "(azam , saikiran reddy) : 0.0\n",
        "(azam , Aishwarya reddy) : 0.0\n",
        "(azam , Brant Mullinix) : 0.319801074533\n",
        "(azam , Sai Sampath) : 0.0\n",
        "(azam , Suyendra) : 0.19439829648\n",
        "(azam , Sai Yallapragada) : 0.176776695297\n",
        "(azam , Akhilesh) : 0.32084447396\n",
        "(azam , Sundar Prasad) : nan\n",
        "(azam , Evan Piercy) : 0.0\n",
        "(azam , Jessica Fong) : 0.258198889747\n",
        "(azam , Onsiri Tapsarn) : nan\n",
        "(azam , Anirudh Thota) : -0.474341649025\n",
        "(azam , Greg Werner) : 0.35138211075\n",
        "(azam , Violeta Lee Fay) : nan\n",
        "(azam , Aditya Dharmasagar) : 0.204124145232\n",
        "(azam , Manideep Maddipatla) : 0.296374489182\n",
        "(azam , Maheshwar Reddy) : 0.375\n",
        "(azam , siddanth sudarshan) : -0.259437260831\n",
        "(azam , anurag) : -0.268028133709\n",
        "(azam , Ahmed Muheebuddin) : nan\n"
       ]
      }
     ],
     "prompt_number": 22
    },
    {
     "cell_type": "code",
     "collapsed": false,
     "input": [
      "def pred_rate(x, a):\n",
      "    \n",
      "    j=0\n",
      "    k=0\n",
      "    for i in range(0, 26, 1): # as there are 26 rows(x.shape), range(0,26) \n",
      "        if x.irow(i)>0 and a[i]>0: \n",
      "            j= j+(a[i]*x.irow(i))\n",
      "            k= k+a[i]\n",
      "        else:\n",
      "            continue\n",
      "    return j/k"
     ],
     "language": "python",
     "metadata": {},
     "outputs": [],
     "prompt_number": 23
    },
    {
     "cell_type": "code",
     "collapsed": false,
     "input": [
      "print \"ratings for the movies that I've not seen using class review:\"\n",
      "for i in range(0, 7, 1): \n",
      "    x=M[not_rated.index[i]]\n",
      "    rate=pred_rate(x, a)\n",
      "    print not_rated.index[i] +\": \", rate.round(1)"
     ],
     "language": "python",
     "metadata": {},
     "outputs": [
      {
       "output_type": "stream",
       "stream": "stdout",
       "text": [
        "ratings for the movies that I've not seen using class review:\n",
        "The Hunger Games: Mockingjay - Part 1:  3.1\n",
        "The Lego Movie:  3.3\n",
        "Transformers:  3.3\n",
        "Malificent:  3.5\n",
        "Big Hero 6:  3.7\n",
        "Godzilla:  3.2\n",
        "Interstellar:  4.9\n"
       ]
      }
     ],
     "prompt_number": 24
    },
    {
     "cell_type": "code",
     "collapsed": false,
     "input": [],
     "language": "python",
     "metadata": {},
     "outputs": []
    }
   ],
   "metadata": {}
  }
 ]
}